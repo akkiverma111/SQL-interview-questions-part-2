{
  "nbformat": 4,
  "nbformat_minor": 0,
  "metadata": {
    "colab": {
      "provenance": []
    },
    "kernelspec": {
      "name": "python3",
      "display_name": "Python 3"
    },
    "language_info": {
      "name": "python"
    }
  },
  "cells": [
    {
      "cell_type": "code",
      "execution_count": 1,
      "metadata": {
        "id": "M4SgVXyXLLAt"
      },
      "outputs": [],
      "source": [
        "#  Write only one for a notebook\n",
        "import sqlite3\n",
        "conn = sqlite3.connect('test.db')\n",
        "cur = conn.cursor()\n",
        "\n",
        "\n",
        "%load_ext sql\n",
        "%sql sqlite:///test.db\n",
        "%reload_ext sql"
      ]
    },
    {
      "cell_type": "code",
      "source": [
        "%%sql\n",
        "DROP TABLE IF EXISTS icc_world_cup ;\n",
        "create table icc_world_cup\n",
        "(\n",
        "match_no int,\n",
        "team_1 Varchar(20),\n",
        "team_2 Varchar(20),\n",
        "winner Varchar(20)\n",
        ");\n",
        "\n",
        "-- Insert values into the table\n",
        "INSERT INTO icc_world_cup values(1,'ENG','NZ','NZ');\n",
        "INSERT INTO icc_world_cup values(2,'PAK','NED','PAK');\n",
        "INSERT INTO icc_world_cup values(3,'AFG','BAN','BAN');\n",
        "INSERT INTO icc_world_cup values(4,'SA','SL','SA');\n",
        "INSERT INTO icc_world_cup values(5,'AUS','IND','IND');\n",
        "INSERT INTO icc_world_cup values(6,'NZ','NED','NZ');\n",
        "INSERT INTO icc_world_cup values(7,'ENG','BAN','ENG');\n",
        "INSERT INTO icc_world_cup values(8,'SL','PAK','PAK');\n",
        "INSERT INTO icc_world_cup values(9,'AFG','IND','IND');\n",
        "INSERT INTO icc_world_cup values(10,'SA','AUS','SA');\n",
        "INSERT INTO icc_world_cup values(11,'BAN','NZ','NZ');\n",
        "INSERT INTO icc_world_cup values(12,'PAK','IND','IND');\n",
        "INSERT INTO icc_world_cup values(13,'SA','IND','DRAW');\n"
      ],
      "metadata": {
        "colab": {
          "base_uri": "https://localhost:8080/"
        },
        "id": "4eT-42w5Lj32",
        "outputId": "96a54cd1-f7bc-40c0-dac1-6a55d12e4f93"
      },
      "execution_count": 2,
      "outputs": [
        {
          "output_type": "stream",
          "name": "stdout",
          "text": [
            " * sqlite:///test.db\n",
            "Done.\n",
            "Done.\n",
            "1 rows affected.\n",
            "1 rows affected.\n",
            "1 rows affected.\n",
            "1 rows affected.\n",
            "1 rows affected.\n",
            "1 rows affected.\n",
            "1 rows affected.\n",
            "1 rows affected.\n",
            "1 rows affected.\n",
            "1 rows affected.\n",
            "1 rows affected.\n",
            "1 rows affected.\n",
            "1 rows affected.\n"
          ]
        },
        {
          "output_type": "execute_result",
          "data": {
            "text/plain": [
              "[]"
            ]
          },
          "metadata": {},
          "execution_count": 2
        }
      ]
    },
    {
      "cell_type": "markdown",
      "source": [
        "**Problem Statement 1** : For all the cricket enthusiasts and SQL learners out there Ever wondered how to create an 𝐈𝐂𝐂 𝐂𝐫𝐢𝐜𝐤𝐞𝐭 𝐖𝐨𝐫𝐥𝐝 𝐂𝐮𝐩 𝟐𝟎𝟐𝟑 𝐩𝐨𝐢𝐧𝐭𝐬 𝐭𝐚𝐛𝐥𝐞 using SQL?\n",
        "*  **Write a SQL query to derive ICC Cricket World Cup 2023 points table considering number of matches played, wins, losses, draws?**  \n",
        "\n",
        "\n"
      ],
      "metadata": {
        "id": "ptBaXatxL1mu"
      }
    },
    {
      "cell_type": "code",
      "source": [
        "%%sql\n",
        "WITH cte2 AS (\n",
        "    WITH cte1 AS (\n",
        "    SELECT team_1, winner FROM icc_world_cup\n",
        "    UNION ALL\n",
        "    SELECT team_2, winner FROM icc_world_cup )\n",
        "    SELECT *,\n",
        "    CASE\n",
        "        WHEN team_1 = winner THEN 1\n",
        "        ELSE  0\n",
        "    END win ,\n",
        "    CASE\n",
        "        WHEN winner = \"DRAW\" THEN 1\n",
        "        ELSE  0\n",
        "    END draw ,\n",
        "    CASE\n",
        "        WHEN team_1 <> winner AND winner <> \"draw\" THEN 1\n",
        "        ELSE  0\n",
        "    END loss\n",
        "    FROM cte1 )\n",
        "SELECT team_1 team, SUM(win)+SUM(draw)+SUM(loss) total_matches,\n",
        "SUM(win) total_wins, SUM(draw) total_draws, SUM(loss) total_losts,\n",
        "2*SUM(win)+1*SUM(draw)+0*SUM(loss) points\n",
        "FROM cte2\n",
        "GROUP BY team_1\n",
        "ORDER BY points DESC ;\n"
      ],
      "metadata": {
        "colab": {
          "base_uri": "https://localhost:8080/",
          "height": 282
        },
        "id": "oTyMSi0TNB7q",
        "outputId": "03cef893-a4b3-40da-8276-7f522b77c575"
      },
      "execution_count": 4,
      "outputs": [
        {
          "output_type": "stream",
          "name": "stdout",
          "text": [
            " * sqlite:///test.db\n",
            "Done.\n"
          ]
        },
        {
          "output_type": "execute_result",
          "data": {
            "text/plain": [
              "[('IND', 5, 3, 1, 1, 7),\n",
              " ('NZ', 3, 3, 0, 0, 6),\n",
              " ('SA', 4, 2, 1, 1, 5),\n",
              " ('PAK', 3, 2, 0, 1, 4),\n",
              " ('ENG', 2, 1, 0, 1, 2),\n",
              " ('BAN', 3, 1, 0, 2, 2),\n",
              " ('SL', 2, 0, 0, 2, 0),\n",
              " ('NED', 2, 0, 0, 2, 0),\n",
              " ('AUS', 2, 0, 0, 2, 0),\n",
              " ('AFG', 2, 0, 0, 2, 0)]"
            ],
            "text/html": [
              "<table>\n",
              "    <thead>\n",
              "        <tr>\n",
              "            <th>team</th>\n",
              "            <th>total_matches</th>\n",
              "            <th>total_wins</th>\n",
              "            <th>total_draws</th>\n",
              "            <th>total_losts</th>\n",
              "            <th>points</th>\n",
              "        </tr>\n",
              "    </thead>\n",
              "    <tbody>\n",
              "        <tr>\n",
              "            <td>IND</td>\n",
              "            <td>5</td>\n",
              "            <td>3</td>\n",
              "            <td>1</td>\n",
              "            <td>1</td>\n",
              "            <td>7</td>\n",
              "        </tr>\n",
              "        <tr>\n",
              "            <td>NZ</td>\n",
              "            <td>3</td>\n",
              "            <td>3</td>\n",
              "            <td>0</td>\n",
              "            <td>0</td>\n",
              "            <td>6</td>\n",
              "        </tr>\n",
              "        <tr>\n",
              "            <td>SA</td>\n",
              "            <td>4</td>\n",
              "            <td>2</td>\n",
              "            <td>1</td>\n",
              "            <td>1</td>\n",
              "            <td>5</td>\n",
              "        </tr>\n",
              "        <tr>\n",
              "            <td>PAK</td>\n",
              "            <td>3</td>\n",
              "            <td>2</td>\n",
              "            <td>0</td>\n",
              "            <td>1</td>\n",
              "            <td>4</td>\n",
              "        </tr>\n",
              "        <tr>\n",
              "            <td>ENG</td>\n",
              "            <td>2</td>\n",
              "            <td>1</td>\n",
              "            <td>0</td>\n",
              "            <td>1</td>\n",
              "            <td>2</td>\n",
              "        </tr>\n",
              "        <tr>\n",
              "            <td>BAN</td>\n",
              "            <td>3</td>\n",
              "            <td>1</td>\n",
              "            <td>0</td>\n",
              "            <td>2</td>\n",
              "            <td>2</td>\n",
              "        </tr>\n",
              "        <tr>\n",
              "            <td>SL</td>\n",
              "            <td>2</td>\n",
              "            <td>0</td>\n",
              "            <td>0</td>\n",
              "            <td>2</td>\n",
              "            <td>0</td>\n",
              "        </tr>\n",
              "        <tr>\n",
              "            <td>NED</td>\n",
              "            <td>2</td>\n",
              "            <td>0</td>\n",
              "            <td>0</td>\n",
              "            <td>2</td>\n",
              "            <td>0</td>\n",
              "        </tr>\n",
              "        <tr>\n",
              "            <td>AUS</td>\n",
              "            <td>2</td>\n",
              "            <td>0</td>\n",
              "            <td>0</td>\n",
              "            <td>2</td>\n",
              "            <td>0</td>\n",
              "        </tr>\n",
              "        <tr>\n",
              "            <td>AFG</td>\n",
              "            <td>2</td>\n",
              "            <td>0</td>\n",
              "            <td>0</td>\n",
              "            <td>2</td>\n",
              "            <td>0</td>\n",
              "        </tr>\n",
              "    </tbody>\n",
              "</table>"
            ]
          },
          "metadata": {},
          "execution_count": 4
        }
      ]
    },
    {
      "cell_type": "markdown",
      "source": [
        "**Problem Statement 2** : We have two tables - 𝐩𝐞𝐨𝐩𝐥𝐞 𝐚𝐧𝐝 𝐫𝐞𝐥𝐚𝐭𝐢𝐨𝐧𝐬. The 𝐩𝐞𝐨𝐩𝐥𝐞 𝐭𝐚𝐛𝐥𝐞 𝐜𝐨𝐧𝐭𝐚𝐢𝐧𝐬 𝐭𝐡𝐞 𝐝𝐞𝐭𝐚𝐢𝐥𝐬 𝐨𝐟 𝐞𝐚𝐜𝐡 𝐢𝐧𝐝𝐢𝐯𝐢𝐝𝐮𝐚𝐥 and the 𝐫𝐞𝐥𝐚𝐭𝐢𝐨𝐧𝐬 𝐭𝐚𝐛𝐥𝐞 𝐜𝐨𝐧𝐭𝐚𝐢𝐧𝐬 𝐭𝐡𝐞 𝐩𝐚𝐫𝐞𝐧𝐭-𝐜𝐡𝐢𝐥𝐝 𝐫𝐞𝐥𝐚𝐭𝐢𝐨𝐧𝐬𝐡𝐢𝐩 𝐛𝐞𝐭𝐰𝐞𝐞𝐧 𝐭𝐰𝐨 𝐢𝐧𝐝𝐢𝐯𝐢𝐝𝐮𝐚𝐥𝐬. Write an SQL query that 𝐩𝐫𝐢𝐧𝐭𝐬 𝐭𝐡𝐞 𝐧𝐚𝐦𝐞𝐬 𝐨𝐟 𝐚 𝐜𝐡𝐢𝐥𝐝 𝐚𝐧𝐝 𝐡𝐢𝐬 𝐩𝐚𝐫𝐞𝐧𝐭𝐬 𝐢𝐧 𝐢𝐧𝐝𝐢𝐯𝐢𝐝𝐮𝐚𝐥 𝐜𝐨𝐥𝐮𝐦𝐧𝐬 𝐫𝐞𝐬𝐩𝐞𝐜𝐭𝐢𝐯𝐞𝐥𝐲 𝐢𝐧 𝐨𝐫𝐝𝐞𝐫 𝐨𝐟 𝐭𝐡𝐞 𝐧𝐚𝐦𝐞 𝐨𝐟 𝐭𝐡𝐞 𝐜𝐡𝐢𝐥𝐝 𝐚𝐬 𝐬𝐡𝐨𝐰𝐧 𝐢𝐧 𝐭𝐡𝐞 𝐩𝐢𝐜𝐭𝐮𝐫𝐞."
      ],
      "metadata": {
        "id": "UKzoQzYnNQ0U"
      }
    },
    {
      "cell_type": "code",
      "source": [
        "%%sql\n",
        "create table people(id int primary key not null,\n",
        "name varchar(20),\n",
        "gender char(2));\n",
        "\n",
        "create table relations(c_id int,\n",
        "p_id int,\n",
        "FOREIGN KEY (c_id) REFERENCES people(id),\n",
        "foreign key (p_id) references people(id)\n",
        ");\n",
        "\n",
        "insert into people (id, name, gender) values\n",
        "(107,'Days','F'),\n",
        "(145,'Hawbaker','M'),\n",
        "(155,'Hansel','F'),\n",
        "(202,'Blackston','M'),\n",
        "(227,'Criss','F'),\n",
        "(278,'Keffer','M'),\n",
        "(305,'Canty','M'),\n",
        "(329,'Mozingo','M'),\n",
        "(425,'Nolf','M'),\n",
        "(534,'Waugh','M'),\n",
        "(586,'Tong','M'),\n",
        "(618,'Dimartino','M'),\n",
        "(747,'Beane','M'),\n",
        "(878,'Chatmon','F'),\n",
        "(904,'Hansard','F');\n",
        "\n",
        "insert into relations(c_id, p_id) values\n",
        "(145, 202),\n",
        "(145, 107),\n",
        "(278,305),\n",
        "(278,155),\n",
        "(329, 425),\n",
        "(329,227),\n",
        "(534,586),\n",
        "(534,878),\n",
        "(618,747),\n",
        "(618,904);\n"
      ],
      "metadata": {
        "colab": {
          "base_uri": "https://localhost:8080/"
        },
        "id": "KMNkFiI9NbXr",
        "outputId": "61baffa6-bb05-49b6-b7c4-811f0cc57b57"
      },
      "execution_count": 5,
      "outputs": [
        {
          "output_type": "stream",
          "name": "stdout",
          "text": [
            " * sqlite:///test.db\n",
            "Done.\n",
            "Done.\n",
            "15 rows affected.\n",
            "10 rows affected.\n"
          ]
        },
        {
          "output_type": "execute_result",
          "data": {
            "text/plain": [
              "[]"
            ]
          },
          "metadata": {},
          "execution_count": 5
        }
      ]
    },
    {
      "cell_type": "code",
      "source": [
        "%%sql\n",
        "WITH cte1 AS (SELECT a.name child, b.name Father FROM people a, people b, relations c\n",
        "    WHERE\n",
        "    a.id=c.c_id AND\n",
        "    b.id = c.p_id AND\n",
        "    b.gender = 'M' ),\n",
        "cte2 AS (SELECT a.name child, b.name Mother FROM people a, people b, relations c\n",
        "    WHERE\n",
        "    a.id=c.c_id AND\n",
        "    b.id = c.p_id AND\n",
        "    b.gender = 'F' )\n",
        "SELECT cte1.child, Father, Mother FROM\n",
        "cte1, cte2\n",
        "WHERE\n",
        "cte1.child = cte2.child\n",
        "ORDER BY cte1.child;"
      ],
      "metadata": {
        "colab": {
          "base_uri": "https://localhost:8080/",
          "height": 178
        },
        "id": "jrvVdNP9Npgk",
        "outputId": "d9b1a046-6144-4283-cb06-38510cf36b28"
      },
      "execution_count": 7,
      "outputs": [
        {
          "output_type": "stream",
          "name": "stdout",
          "text": [
            " * sqlite:///test.db\n",
            "Done.\n"
          ]
        },
        {
          "output_type": "execute_result",
          "data": {
            "text/plain": [
              "[('Dimartino', 'Beane', 'Hansard'),\n",
              " ('Hawbaker', 'Blackston', 'Days'),\n",
              " ('Keffer', 'Canty', 'Hansel'),\n",
              " ('Mozingo', 'Nolf', 'Criss'),\n",
              " ('Waugh', 'Tong', 'Chatmon')]"
            ],
            "text/html": [
              "<table>\n",
              "    <thead>\n",
              "        <tr>\n",
              "            <th>child</th>\n",
              "            <th>Father</th>\n",
              "            <th>Mother</th>\n",
              "        </tr>\n",
              "    </thead>\n",
              "    <tbody>\n",
              "        <tr>\n",
              "            <td>Dimartino</td>\n",
              "            <td>Beane</td>\n",
              "            <td>Hansard</td>\n",
              "        </tr>\n",
              "        <tr>\n",
              "            <td>Hawbaker</td>\n",
              "            <td>Blackston</td>\n",
              "            <td>Days</td>\n",
              "        </tr>\n",
              "        <tr>\n",
              "            <td>Keffer</td>\n",
              "            <td>Canty</td>\n",
              "            <td>Hansel</td>\n",
              "        </tr>\n",
              "        <tr>\n",
              "            <td>Mozingo</td>\n",
              "            <td>Nolf</td>\n",
              "            <td>Criss</td>\n",
              "        </tr>\n",
              "        <tr>\n",
              "            <td>Waugh</td>\n",
              "            <td>Tong</td>\n",
              "            <td>Chatmon</td>\n",
              "        </tr>\n",
              "    </tbody>\n",
              "</table>"
            ]
          },
          "metadata": {},
          "execution_count": 7
        }
      ]
    },
    {
      "cell_type": "markdown",
      "source": [
        "**Problem Statement 3** :  Write an SQL query 𝐭𝐨 𝐟𝐢𝐧𝐝 𝐭𝐨𝐭𝐚𝐥 𝐧𝐮𝐦𝐛𝐞𝐫 𝐨𝐟 𝐜𝐥𝐨𝐜𝐤𝐞𝐝 𝐡𝐨𝐮𝐫𝐬 𝐟𝐨𝐫 𝐞𝐚𝐜𝐡 𝐞𝐦𝐩𝐥𝐨𝐲𝐞𝐞(𝐢𝐧𝐬𝐢𝐝𝐞 𝐭𝐡𝐞 𝐨𝐟𝐟𝐢𝐜𝐞), 𝐟𝐥𝐚𝐠 - 𝐈 𝐦𝐞𝐚𝐧𝐬 𝐩𝐮𝐧𝐜𝐡 𝐢𝐧 𝐚𝐧𝐝 𝐎 𝐦𝐞𝐚𝐧𝐬 𝐩𝐮𝐧𝐜𝐡 𝐨𝐮𝐭. 𝐄𝐦𝐩𝐥𝐨𝐲𝐞𝐞 𝐜𝐚𝐧 𝐝𝐨 𝐦𝐮𝐥𝐭𝐢𝐩𝐥𝐞 𝐩𝐮𝐧𝐜𝐡 𝐢𝐧 𝐚𝐧𝐝 𝐩𝐮𝐧𝐜𝐡 𝐨𝐮𝐭 𝐢𝐧 𝐚 𝐝𝐚𝐲. for each punch in there will be a punch out.\n"
      ],
      "metadata": {
        "id": "SmE25_ZAODkH"
      }
    },
    {
      "cell_type": "code",
      "source": [
        "%%sql\n",
        "create table clocked_hours(\n",
        "empd_id int,\n",
        "swipe time,\n",
        "flag char\n",
        ");\n",
        "insert into clocked_hours values\n",
        "(11114,'08:30','I'),\n",
        "(11114,'10:30','O'),\n",
        "(11114,'11:30','I'),\n",
        "(11114,'15:30','O'),\n",
        "(11115,'09:30','I'),\n",
        "(11115,'17:30','O');\n"
      ],
      "metadata": {
        "colab": {
          "base_uri": "https://localhost:8080/"
        },
        "id": "ZQR80kP1OPD4",
        "outputId": "32cf5028-e253-4684-af33-ebe4e64891cd"
      },
      "execution_count": 8,
      "outputs": [
        {
          "output_type": "stream",
          "name": "stdout",
          "text": [
            " * sqlite:///test.db\n",
            "Done.\n",
            "6 rows affected.\n"
          ]
        },
        {
          "output_type": "execute_result",
          "data": {
            "text/plain": [
              "[]"
            ]
          },
          "metadata": {},
          "execution_count": 8
        }
      ]
    },
    {
      "cell_type": "code",
      "source": [
        "%%sql\n",
        "WITH cte1 AS (\n",
        "    SELECT empd_id, swipe AS punch_in, ROW_NUMBER() OVER() rn1\n",
        "    FROM clocked_hours\n",
        "    WHERE flag = \"I\"\n",
        "),\n",
        "cte2 AS (\n",
        "    SELECT empd_id, swipe AS punch_out, ROW_NUMBER() OVER() rn2\n",
        "    FROM clocked_hours\n",
        "    WHERE flag = \"O\"\n",
        ")\n",
        "SELECT\n",
        "    cte1.empd_id,\n",
        "    ROUND(SUM((strftime('%s', punch_out) - strftime('%s', punch_in)))/3600, 2) AS clocked_hrs\n",
        "FROM cte1\n",
        "INNER JOIN cte2\n",
        "    ON cte1.rn1 = cte2.rn2\n",
        "GROUP BY cte1.empd_id;"
      ],
      "metadata": {
        "colab": {
          "base_uri": "https://localhost:8080/",
          "height": 116
        },
        "id": "wEjKSdegO73Q",
        "outputId": "6fdc451e-f1fd-4f1e-e2d5-343521ab2386"
      },
      "execution_count": 11,
      "outputs": [
        {
          "output_type": "stream",
          "name": "stdout",
          "text": [
            " * sqlite:///test.db\n",
            "Done.\n"
          ]
        },
        {
          "output_type": "execute_result",
          "data": {
            "text/plain": [
              "[(11114, 6.0), (11115, 8.0)]"
            ],
            "text/html": [
              "<table>\n",
              "    <thead>\n",
              "        <tr>\n",
              "            <th>empd_id</th>\n",
              "            <th>clocked_hrs</th>\n",
              "        </tr>\n",
              "    </thead>\n",
              "    <tbody>\n",
              "        <tr>\n",
              "            <td>11114</td>\n",
              "            <td>6.0</td>\n",
              "        </tr>\n",
              "        <tr>\n",
              "            <td>11115</td>\n",
              "            <td>8.0</td>\n",
              "        </tr>\n",
              "    </tbody>\n",
              "</table>"
            ]
          },
          "metadata": {},
          "execution_count": 11
        }
      ]
    },
    {
      "cell_type": "markdown",
      "source": [
        "**Problem Statement 4** : You are given 𝐚 𝐭𝐚𝐛𝐥𝐞 𝐡𝐚𝐯𝐢𝐧𝐠 𝐭𝐡𝐞 𝐦𝐚𝐫𝐤𝐬 𝐨𝐟 𝐨𝐧𝐞 𝐬𝐭𝐮𝐝𝐞𝐧𝐭 𝐢𝐧 𝐞𝐯𝐞𝐫𝐲 𝐭𝐞𝐬𝐭. 𝐘𝐨𝐮 𝐡𝐚𝐯𝐞 𝐭𝐨 𝐨𝐮𝐭𝐩𝐮𝐭 𝐭𝐡𝐞 𝐭𝐞𝐬𝐭𝐬 𝐢𝐧 𝐰𝐡𝐢𝐜𝐡 𝐭𝐡𝐞 𝐬𝐭𝐮𝐝𝐞𝐧𝐭 𝐡𝐚𝐬 𝐢𝐦𝐩𝐫𝐨𝐯𝐞𝐝 𝐡𝐢𝐬 𝐩𝐞𝐫𝐟𝐨𝐫𝐦𝐚𝐧𝐜𝐞. 𝐅𝐨𝐫 𝐚 𝐬𝐭𝐮𝐝𝐞𝐧𝐭 𝐭𝐨 𝐢𝐦𝐩𝐫𝐨𝐯𝐞 𝐡𝐢𝐬 𝐩𝐞𝐫𝐟𝐨𝐫𝐦𝐚𝐧𝐜𝐞 𝐡𝐞 𝐡𝐚𝐬 𝐭𝐨 𝐬𝐜𝐨𝐫𝐞 𝐦𝐨𝐫𝐞 𝐭𝐡𝐚𝐧 𝐭𝐡𝐞 𝐩𝐫𝐞𝐯𝐢𝐨𝐮𝐬 𝐭𝐞𝐬𝐭. 𝐏𝐫𝐨𝐯𝐢𝐝𝐞 𝟐 𝐬𝐨𝐥𝐮𝐭𝐢𝐨𝐧𝐬, 𝐨𝐧𝐞 𝐢𝐧𝐜𝐥𝐮𝐝𝐢𝐧𝐠 𝐭𝐡𝐞 𝐟𝐢𝐫𝐬𝐭 𝐭𝐞𝐬𝐭 𝐬𝐜𝐨𝐫𝐞 𝐚𝐧𝐝 𝐬𝐞𝐜𝐨𝐧𝐝 𝐞𝐱𝐜𝐥𝐮𝐝𝐢𝐧𝐠 𝐢𝐭.\n"
      ],
      "metadata": {
        "id": "Nj2CJA3aPHGi"
      }
    },
    {
      "cell_type": "code",
      "source": [
        "%%sql\n",
        "create table student_tests(test_id int, marks int);\n",
        "insert into student_tests values(100, 55);\n",
        "insert into student_tests values(101, 55);\n",
        "insert into student_tests values(102, 60);\n",
        "insert into student_tests values(103, 58);\n",
        "insert into student_tests values(104, 40);\n",
        "insert into student_tests values(105, 50);\n",
        "\n"
      ],
      "metadata": {
        "colab": {
          "base_uri": "https://localhost:8080/"
        },
        "id": "SyYVfFqRPUhP",
        "outputId": "10817ec2-6adf-46b7-b5b3-7b73e3732852"
      },
      "execution_count": 12,
      "outputs": [
        {
          "output_type": "stream",
          "name": "stdout",
          "text": [
            " * sqlite:///test.db\n",
            "Done.\n",
            "1 rows affected.\n",
            "1 rows affected.\n",
            "1 rows affected.\n",
            "1 rows affected.\n",
            "1 rows affected.\n",
            "1 rows affected.\n"
          ]
        },
        {
          "output_type": "execute_result",
          "data": {
            "text/plain": [
              "[]"
            ]
          },
          "metadata": {},
          "execution_count": 12
        }
      ]
    },
    {
      "cell_type": "code",
      "source": [
        "%%sql\n",
        "WITH cte AS (\n",
        "    SELECT * ,marks-LAG(marks) OVER() a\n",
        "    FROM student_tests )\n",
        "SELECT test_id, marks FROM cte WHERE a>0 OR a IS NULL ;\n"
      ],
      "metadata": {
        "colab": {
          "base_uri": "https://localhost:8080/",
          "height": 136
        },
        "id": "moW6T_DaP9GP",
        "outputId": "d7a6134b-c6a3-435b-ce05-85ef8b3e6642"
      },
      "execution_count": 16,
      "outputs": [
        {
          "output_type": "stream",
          "name": "stdout",
          "text": [
            " * sqlite:///test.db\n",
            "Done.\n"
          ]
        },
        {
          "output_type": "execute_result",
          "data": {
            "text/plain": [
              "[(100, 55), (102, 60), (105, 50)]"
            ],
            "text/html": [
              "<table>\n",
              "    <thead>\n",
              "        <tr>\n",
              "            <th>test_id</th>\n",
              "            <th>marks</th>\n",
              "        </tr>\n",
              "    </thead>\n",
              "    <tbody>\n",
              "        <tr>\n",
              "            <td>100</td>\n",
              "            <td>55</td>\n",
              "        </tr>\n",
              "        <tr>\n",
              "            <td>102</td>\n",
              "            <td>60</td>\n",
              "        </tr>\n",
              "        <tr>\n",
              "            <td>105</td>\n",
              "            <td>50</td>\n",
              "        </tr>\n",
              "    </tbody>\n",
              "</table>"
            ]
          },
          "metadata": {},
          "execution_count": 16
        }
      ]
    },
    {
      "cell_type": "code",
      "source": [
        "%%sql\n",
        "WITH cte AS (\n",
        "    SELECT * ,marks-LAG(marks) OVER() a\n",
        "    FROM student_tests )\n",
        "SELECT test_id, marks FROM cte WHERE a > 0 AND a IS NOT NULL;\n"
      ],
      "metadata": {
        "colab": {
          "base_uri": "https://localhost:8080/",
          "height": 116
        },
        "id": "bWNZCreaQDfy",
        "outputId": "a3fcca2c-5e36-4db4-8bd6-ac90f21dc5ea"
      },
      "execution_count": 17,
      "outputs": [
        {
          "output_type": "stream",
          "name": "stdout",
          "text": [
            " * sqlite:///test.db\n",
            "Done.\n"
          ]
        },
        {
          "output_type": "execute_result",
          "data": {
            "text/plain": [
              "[(102, 60), (105, 50)]"
            ],
            "text/html": [
              "<table>\n",
              "    <thead>\n",
              "        <tr>\n",
              "            <th>test_id</th>\n",
              "            <th>marks</th>\n",
              "        </tr>\n",
              "    </thead>\n",
              "    <tbody>\n",
              "        <tr>\n",
              "            <td>102</td>\n",
              "            <td>60</td>\n",
              "        </tr>\n",
              "        <tr>\n",
              "            <td>105</td>\n",
              "            <td>50</td>\n",
              "        </tr>\n",
              "    </tbody>\n",
              "</table>"
            ]
          },
          "metadata": {},
          "execution_count": 17
        }
      ]
    },
    {
      "cell_type": "markdown",
      "source": [
        "**Problem Statement 5** : (𝐆𝐞𝐧𝐞𝐫𝐚𝐭𝐞 𝐬𝐚𝐥𝐚𝐫𝐲 𝐫𝐞𝐩𝐨𝐫𝐭):\n",
        "Using the given Salary, Income and Deduction tables, first write an sql query to populate the **Emp_Transaction table**\n",
        "and then **generate a salary report**"
      ],
      "metadata": {
        "id": "AfTiZOoiQLrc"
      }
    },
    {
      "cell_type": "code",
      "source": [
        "%%sql\n",
        "create table salary(emp_id int, emp_name varchar(30), base_salary int);\n",
        "insert into salary values(1, 'Rohan', 5000), (2, 'Alex', 6000), (3, 'Maryam', 7000);\n",
        "\n",
        "create table income(id int, income varchar(20), percentage int);\n",
        "insert into income values(1,'Basic', 100), (2,'Allowance', 4), (3,'Others', 6);\n",
        "\n",
        "create table deduction(id int, deduction varchar(20), percentage int);\n",
        "insert into deduction values(1,'Insurance', 5), (2,'Health', 6), (3,'House', 4);\n"
      ],
      "metadata": {
        "colab": {
          "base_uri": "https://localhost:8080/"
        },
        "id": "C-dLZnnwQh7T",
        "outputId": "efa7bc79-9650-46b0-e36d-db8b2b068e0a"
      },
      "execution_count": 18,
      "outputs": [
        {
          "output_type": "stream",
          "name": "stdout",
          "text": [
            " * sqlite:///test.db\n",
            "Done.\n",
            "3 rows affected.\n",
            "Done.\n",
            "3 rows affected.\n",
            "Done.\n",
            "3 rows affected.\n"
          ]
        },
        {
          "output_type": "execute_result",
          "data": {
            "text/plain": [
              "[]"
            ]
          },
          "metadata": {},
          "execution_count": 18
        }
      ]
    },
    {
      "cell_type": "code",
      "source": [
        "%%sql\n",
        "WITH cte AS (\n",
        "  SELECT emp_name,\n",
        "  ROUND(base_salary*(SELECT percentage FROM income WHERE income = \"Basic\")/100, 2) Basic,\n",
        "  ROUND(base_salary*(SELECT percentage FROM income WHERE income = \"Allowance\")/100, 2) Allowance,\n",
        "  ROUND(base_salary*(SELECT percentage FROM income WHERE income = \"Others\")/100, 2) Others,\n",
        "  ROUND(base_salary*(SELECT percentage FROM deduction WHERE deduction = \"Insurance\")/100, 2) Insurance,\n",
        "  ROUND(base_salary*(SELECT percentage FROM deduction WHERE deduction = \"Health\")/100, 2) Health,\n",
        "  ROUND(base_salary*(SELECT percentage FROM deduction WHERE deduction = \"House\")/100, 2) House\n",
        "  FROM salary\n",
        ")\n",
        "SELECT emp_name,Basic, Allowance, Others, basic+Allowance+Others Gross, Insurance, Health,House,Insurance+Health+House Total_Deductions,\n",
        "basic+Allowance+Others-Insurance-Health-House  Net_Pay\n",
        "FROM cte ORDER BY emp_name;\n"
      ],
      "metadata": {
        "colab": {
          "base_uri": "https://localhost:8080/",
          "height": 136
        },
        "id": "YKj94E9cQqRd",
        "outputId": "3b3faeac-a00b-4261-a5ed-f72ec8bf4124"
      },
      "execution_count": 19,
      "outputs": [
        {
          "output_type": "stream",
          "name": "stdout",
          "text": [
            " * sqlite:///test.db\n",
            "Done.\n"
          ]
        },
        {
          "output_type": "execute_result",
          "data": {
            "text/plain": [
              "[('Alex', 6000.0, 240.0, 360.0, 6600.0, 300.0, 360.0, 240.0, 900.0, 5700.0),\n",
              " ('Maryam', 7000.0, 280.0, 420.0, 7700.0, 350.0, 420.0, 280.0, 1050.0, 6650.0),\n",
              " ('Rohan', 5000.0, 200.0, 300.0, 5500.0, 250.0, 300.0, 200.0, 750.0, 4750.0)]"
            ],
            "text/html": [
              "<table>\n",
              "    <thead>\n",
              "        <tr>\n",
              "            <th>emp_name</th>\n",
              "            <th>Basic</th>\n",
              "            <th>Allowance</th>\n",
              "            <th>Others</th>\n",
              "            <th>Gross</th>\n",
              "            <th>Insurance</th>\n",
              "            <th>Health</th>\n",
              "            <th>House</th>\n",
              "            <th>Total_Deductions</th>\n",
              "            <th>Net_Pay</th>\n",
              "        </tr>\n",
              "    </thead>\n",
              "    <tbody>\n",
              "        <tr>\n",
              "            <td>Alex</td>\n",
              "            <td>6000.0</td>\n",
              "            <td>240.0</td>\n",
              "            <td>360.0</td>\n",
              "            <td>6600.0</td>\n",
              "            <td>300.0</td>\n",
              "            <td>360.0</td>\n",
              "            <td>240.0</td>\n",
              "            <td>900.0</td>\n",
              "            <td>5700.0</td>\n",
              "        </tr>\n",
              "        <tr>\n",
              "            <td>Maryam</td>\n",
              "            <td>7000.0</td>\n",
              "            <td>280.0</td>\n",
              "            <td>420.0</td>\n",
              "            <td>7700.0</td>\n",
              "            <td>350.0</td>\n",
              "            <td>420.0</td>\n",
              "            <td>280.0</td>\n",
              "            <td>1050.0</td>\n",
              "            <td>6650.0</td>\n",
              "        </tr>\n",
              "        <tr>\n",
              "            <td>Rohan</td>\n",
              "            <td>5000.0</td>\n",
              "            <td>200.0</td>\n",
              "            <td>300.0</td>\n",
              "            <td>5500.0</td>\n",
              "            <td>250.0</td>\n",
              "            <td>300.0</td>\n",
              "            <td>200.0</td>\n",
              "            <td>750.0</td>\n",
              "            <td>4750.0</td>\n",
              "        </tr>\n",
              "    </tbody>\n",
              "</table>"
            ]
          },
          "metadata": {},
          "execution_count": 19
        }
      ]
    },
    {
      "cell_type": "markdown",
      "source": [
        "**Problem Statement 6** : Write an SQL query 𝐭𝐨 𝐫𝐞𝐭𝐮𝐫𝐧 𝐭𝐡𝐞 𝐟𝐨𝐨𝐭𝐞𝐫 𝐯𝐚𝐥𝐮𝐞𝐬 𝐟𝐫𝐨𝐦 𝐢𝐧𝐩𝐮𝐭 𝐭𝐚𝐛𝐥𝐞, 𝐦𝐞𝐚𝐧𝐢𝐧𝐠 𝐚𝐥𝐥 𝐭𝐡𝐞 𝐥𝐚𝐬𝐭 𝐧𝐨𝐧 𝐧𝐮𝐥𝐥 𝐯𝐚𝐥𝐮𝐞𝐬 𝐟𝐫𝐨𝐦 𝐞𝐚𝐜𝐡 𝐟𝐢𝐞𝐥𝐝 𝐚𝐬 𝐬𝐡𝐨𝐰𝐧 𝐢𝐧 𝐞𝐱𝐩𝐞𝐜𝐭𝐞𝐝 𝐨𝐮𝐭𝐩𝐮𝐭.\n"
      ],
      "metadata": {
        "id": "t7Zh03F4VdGZ"
      }
    },
    {
      "cell_type": "code",
      "source": [
        "%%sql\n",
        "CREATE TABLE footer\n",
        "(\n",
        "id INT PRIMARY KEY,\n",
        "car VARCHAR(20),\n",
        "length INT,\n",
        "width INT,\n",
        "height INT\n",
        ");\n",
        "INSERT INTO footer VALUES (1, 'Hyundai Tucson', 15, 6, NULL);\n",
        "INSERT INTO footer VALUES (2, NULL, NULL, NULL, 20);\n",
        "INSERT INTO footer VALUES (3, NULL, 12, 8, 15);\n",
        "INSERT INTO footer VALUES (4, 'Toyota Rav4', NULL, 15, NULL);\n",
        "INSERT INTO footer VALUES (5, 'Kia Sportage', NULL, NULL, 18);"
      ],
      "metadata": {
        "colab": {
          "base_uri": "https://localhost:8080/"
        },
        "id": "D2a38uGWVrPI",
        "outputId": "1ad39888-727b-411a-b135-f8af1688e646"
      },
      "execution_count": 20,
      "outputs": [
        {
          "output_type": "stream",
          "name": "stdout",
          "text": [
            " * sqlite:///test.db\n",
            "Done.\n",
            "1 rows affected.\n",
            "1 rows affected.\n",
            "1 rows affected.\n",
            "1 rows affected.\n",
            "1 rows affected.\n"
          ]
        },
        {
          "output_type": "execute_result",
          "data": {
            "text/plain": [
              "[]"
            ]
          },
          "metadata": {},
          "execution_count": 20
        }
      ]
    },
    {
      "cell_type": "code",
      "source": [
        "%%sql\n",
        "SELECT\n",
        "    (SELECT car FROM footer WHERE car IS NOT NULL ORDER BY id DESC LIMIT 1) AS car,\n",
        "    (SELECT length FROM footer WHERE length IS NOT NULL ORDER BY id DESC LIMIT 1) AS length,\n",
        "    (SELECT width FROM footer WHERE width IS NOT NULL ORDER BY id DESC LIMIT 1) AS width,\n",
        "    (SELECT height FROM footer WHERE height IS NOT NULL ORDER BY id DESC LIMIT 1) AS height;"
      ],
      "metadata": {
        "colab": {
          "base_uri": "https://localhost:8080/",
          "height": 95
        },
        "id": "6TIQ-46-WaxU",
        "outputId": "517a4113-7e46-40fc-8ec1-7396c9a54b74"
      },
      "execution_count": 22,
      "outputs": [
        {
          "output_type": "stream",
          "name": "stdout",
          "text": [
            " * sqlite:///test.db\n",
            "Done.\n"
          ]
        },
        {
          "output_type": "execute_result",
          "data": {
            "text/plain": [
              "[('Kia Sportage', 12, 15, 18)]"
            ],
            "text/html": [
              "<table>\n",
              "    <thead>\n",
              "        <tr>\n",
              "            <th>car</th>\n",
              "            <th>length</th>\n",
              "            <th>width</th>\n",
              "            <th>height</th>\n",
              "        </tr>\n",
              "    </thead>\n",
              "    <tbody>\n",
              "        <tr>\n",
              "            <td>Kia Sportage</td>\n",
              "            <td>12</td>\n",
              "            <td>15</td>\n",
              "            <td>18</td>\n",
              "        </tr>\n",
              "    </tbody>\n",
              "</table>"
            ]
          },
          "metadata": {},
          "execution_count": 22
        }
      ]
    },
    {
      "cell_type": "markdown",
      "source": [
        "**Problem Statement 7 : Write a query that outputs the name of the credit card, and how many cards were issued in its launch month. The launch month is the earliest record in the monthly_card_issued table for a given card. Order the results starting from the biggest issued amount**.\n"
      ],
      "metadata": {
        "id": "0wGsq-9UWmvP"
      }
    },
    {
      "cell_type": "code",
      "source": [
        "%%sql\n",
        "CREATE TABLE monthly_card_issued (\n",
        "  issue_month INTEGER,\n",
        "  issue_year INTEGER,\n",
        "  card_name varchar(50),\n",
        "  issued_amount INTEGER\n",
        ");\n",
        "\n",
        "\n",
        "INSERT INTO monthly_card_issued (card_name, issued_amount, issue_month, issue_year)\n",
        "VALUES\n",
        "  ('Chase Sapphire Reserve', 160000, 12, 2020),\n",
        "  ('Chase Sapphire Reserve', 170000, 1, 2021),\n",
        "  ('Chase Sapphire Reserve', 175000, 2, 2021),\n",
        "  ('Chase Sapphire Reserve', 180000, 3, 2021),\n",
        "  ('Chase Freedom Flex', 55000, 1, 2021),\n",
        "  ('Chase Freedom Flex', 60000, 2, 2021),\n",
        "  ('Chase Freedom Flex', 65000, 3, 2021),\n",
        "  ('Chase Freedom Flex', 70000, 4, 2021),\n",
        "  ('Chase Sapphire Reserve', 150000, 11, 2020);"
      ],
      "metadata": {
        "colab": {
          "base_uri": "https://localhost:8080/"
        },
        "id": "UKPo3d-EWvV9",
        "outputId": "1b785781-cbf8-4d9f-b5e0-de89a7f93849"
      },
      "execution_count": 23,
      "outputs": [
        {
          "output_type": "stream",
          "name": "stdout",
          "text": [
            " * sqlite:///test.db\n",
            "Done.\n",
            "9 rows affected.\n"
          ]
        },
        {
          "output_type": "execute_result",
          "data": {
            "text/plain": [
              "[]"
            ]
          },
          "metadata": {},
          "execution_count": 23
        }
      ]
    },
    {
      "cell_type": "code",
      "source": [
        "%%sql\n",
        "WITH cte AS (\n",
        "    SELECT card_name, issued_amount,\n",
        "    ROW_NUMBER()OVER(PARTITION BY card_name ORDER BY issue_year, issue_month) rn\n",
        "    FROM monthly_card_issued )\n",
        "SELECT card_name, issued_amount FROM cte\n",
        "WHERE rn = 1\n",
        "ORDER BY issued_amount DESC;"
      ],
      "metadata": {
        "colab": {
          "base_uri": "https://localhost:8080/",
          "height": 116
        },
        "id": "iqek34UZW4_G",
        "outputId": "04919338-6dc0-47e5-aa5b-7ac99f58c6fd"
      },
      "execution_count": 24,
      "outputs": [
        {
          "output_type": "stream",
          "name": "stdout",
          "text": [
            " * sqlite:///test.db\n",
            "Done.\n"
          ]
        },
        {
          "output_type": "execute_result",
          "data": {
            "text/plain": [
              "[('Chase Sapphire Reserve', 150000), ('Chase Freedom Flex', 55000)]"
            ],
            "text/html": [
              "<table>\n",
              "    <thead>\n",
              "        <tr>\n",
              "            <th>card_name</th>\n",
              "            <th>issued_amount</th>\n",
              "        </tr>\n",
              "    </thead>\n",
              "    <tbody>\n",
              "        <tr>\n",
              "            <td>Chase Sapphire Reserve</td>\n",
              "            <td>150000</td>\n",
              "        </tr>\n",
              "        <tr>\n",
              "            <td>Chase Freedom Flex</td>\n",
              "            <td>55000</td>\n",
              "        </tr>\n",
              "    </tbody>\n",
              "</table>"
            ]
          },
          "metadata": {},
          "execution_count": 24
        }
      ]
    },
    {
      "cell_type": "markdown",
      "source": [
        "**Problem Statement 8 : Write an sql to find employees whose salary is greater than their managers salary**."
      ],
      "metadata": {
        "id": "L-s6runmXAI7"
      }
    },
    {
      "cell_type": "code",
      "source": [
        "%%sql\n",
        "CREATE TABLE Employees\n",
        "(\n",
        " EmpID  INT,\n",
        " EmpName  VARCHAR(100),\n",
        " Salary  INT,\n",
        " ManagerID INT\n",
        ");\n",
        "\n",
        "INSERT INTO Employees (EmpID,EmpName,Salary,ManagerID)\n",
        "SELECT 1,'Bala',1000,7\n",
        "UNION ALL\n",
        "SELECT 2,'Abhay',1500,1\n",
        "UNION ALL\n",
        "SELECT 3,'Lakshman',1500,6\n",
        "UNION ALL\n",
        "SELECT 4,'Dileep',2000,7\n",
        "UNION ALL\n",
        "SELECT 5,'Rajesh',4000,6\n",
        "UNION ALL\n",
        "SELECT 6,'Raviteja',3000,7\n",
        "UNION ALL\n",
        "SELECT 7,'Vijay',3500,null\n",
        "UNION ALL\n",
        "SELECT 8,'Rakesh',3500,7"
      ],
      "metadata": {
        "colab": {
          "base_uri": "https://localhost:8080/"
        },
        "id": "bVxUVoAmXHBe",
        "outputId": "ae227ef3-01dd-4328-83f0-0f664213f48c"
      },
      "execution_count": 25,
      "outputs": [
        {
          "output_type": "stream",
          "name": "stdout",
          "text": [
            " * sqlite:///test.db\n",
            "Done.\n",
            "8 rows affected.\n"
          ]
        },
        {
          "output_type": "execute_result",
          "data": {
            "text/plain": [
              "[]"
            ]
          },
          "metadata": {},
          "execution_count": 25
        }
      ]
    },
    {
      "cell_type": "code",
      "source": [
        "%%sql\n",
        "WITH cte AS (\n",
        "    SELECT b.EmpID emp_ID, b.EmpName Emp_Name, b.Salary Emp_salary ,\n",
        "    a.EmpID Manager_ID, a.EmpName Manager_name, a.Salary Manager_salary\n",
        "    FROM employees a\n",
        "    INNER JOIN\n",
        "    employees b\n",
        "    ON a.EmpID = b.ManagerID )\n",
        "SELECT Emp_Name EmpName, Emp_salary Salary FROM cte WHERE Emp_salary > Manager_salary;"
      ],
      "metadata": {
        "colab": {
          "base_uri": "https://localhost:8080/",
          "height": 116
        },
        "id": "R73P04pKXNqo",
        "outputId": "db489798-f9a2-4437-bced-42d3a126763a"
      },
      "execution_count": 26,
      "outputs": [
        {
          "output_type": "stream",
          "name": "stdout",
          "text": [
            " * sqlite:///test.db\n",
            "Done.\n"
          ]
        },
        {
          "output_type": "execute_result",
          "data": {
            "text/plain": [
              "[('Abhay', 1500), ('Rajesh', 4000)]"
            ],
            "text/html": [
              "<table>\n",
              "    <thead>\n",
              "        <tr>\n",
              "            <th>EmpName</th>\n",
              "            <th>Salary</th>\n",
              "        </tr>\n",
              "    </thead>\n",
              "    <tbody>\n",
              "        <tr>\n",
              "            <td>Abhay</td>\n",
              "            <td>1500</td>\n",
              "        </tr>\n",
              "        <tr>\n",
              "            <td>Rajesh</td>\n",
              "            <td>4000</td>\n",
              "        </tr>\n",
              "    </tbody>\n",
              "</table>"
            ]
          },
          "metadata": {},
          "execution_count": 26
        }
      ]
    },
    {
      "cell_type": "markdown",
      "source": [
        "**Problem Statement 9 : Given the Employee table, write a SQL query that finds out managers with at least 5 direct reportee**."
      ],
      "metadata": {
        "id": "emz_dqy5XV4x"
      }
    },
    {
      "cell_type": "code",
      "source": [
        "%%sql\n",
        "Create table If Not Exists Employee (\n",
        "Id int,\n",
        "Name varchar(255),\n",
        "Department varchar(255),\n",
        "ManagerId int\n",
        ");\n",
        "\n",
        "insert into Employee(Id, Name, Department, ManagerId) values\n",
        "('101', 'John', 'A', Null),\n",
        "('102', 'Dan', 'A', '101'),\n",
        "('103', 'James', 'A', '101'),\n",
        "('104', 'Amy', 'A', '101'),\n",
        "('105', 'Anne', 'A', '101'),\n",
        "('106', 'Ron', 'B', '101'),\n",
        "('107', 'Tony', 'C', '103'),\n",
        "('108', 'Rocky', 'C', '103');"
      ],
      "metadata": {
        "colab": {
          "base_uri": "https://localhost:8080/"
        },
        "id": "HLZCoQ13Xd8x",
        "outputId": "efcbefc5-6fef-4e18-a538-940e2b0cf146"
      },
      "execution_count": 27,
      "outputs": [
        {
          "output_type": "stream",
          "name": "stdout",
          "text": [
            " * sqlite:///test.db\n",
            "Done.\n",
            "8 rows affected.\n"
          ]
        },
        {
          "output_type": "execute_result",
          "data": {
            "text/plain": [
              "[]"
            ]
          },
          "metadata": {},
          "execution_count": 27
        }
      ]
    },
    {
      "cell_type": "code",
      "source": [
        "%%sql\n",
        "WITH cte AS (\n",
        "    select a.Name, a.Department  from employee a\n",
        "    INNER JOIN\n",
        "    employee b\n",
        "    ON a.Id = b.ManagerId )\n",
        "SELECT Name FROM cte GROUP BY Name HAVING COUNT(Department) >= 5 ;"
      ],
      "metadata": {
        "colab": {
          "base_uri": "https://localhost:8080/",
          "height": 95
        },
        "id": "k6uZGsW6XmCf",
        "outputId": "f9f15783-ca16-4f98-fb6c-ddf23967a753"
      },
      "execution_count": 29,
      "outputs": [
        {
          "output_type": "stream",
          "name": "stdout",
          "text": [
            " * sqlite:///test.db\n",
            "Done.\n"
          ]
        },
        {
          "output_type": "execute_result",
          "data": {
            "text/plain": [
              "[('John',)]"
            ],
            "text/html": [
              "<table>\n",
              "    <thead>\n",
              "        <tr>\n",
              "            <th>Name</th>\n",
              "        </tr>\n",
              "    </thead>\n",
              "    <tbody>\n",
              "        <tr>\n",
              "            <td>John</td>\n",
              "        </tr>\n",
              "    </tbody>\n",
              "</table>"
            ]
          },
          "metadata": {},
          "execution_count": 29
        }
      ]
    },
    {
      "cell_type": "markdown",
      "source": [
        "**Problem Statement 10** : Write a sql query to find the products **whose sales increased every year.**\n",
        "include the product_id, product_name, category.\n"
      ],
      "metadata": {
        "id": "A09vE1PeX5nR"
      }
    },
    {
      "cell_type": "code",
      "source": [
        "%%sql\n",
        "CREATE TABLE products (\n",
        " product_id INT PRIMARY KEY,\n",
        " product_name VARCHAR(50),\n",
        " category VARCHAR(50)\n",
        ");\n",
        "\n",
        "INSERT INTO products (product_id, product_name, category) VALUES\n",
        " (1, 'Laptops', 'Electronics'),\n",
        " (2, 'Jeans', 'Clothing'),\n",
        " (3, 'Chairs', 'Home Appliances');\n",
        "\n",
        "CREATE TABLE sales (\n",
        " product_id INT,\n",
        " year INT,\n",
        " total_sales_revenue DECIMAL(10, 2),\n",
        " PRIMARY KEY (product_id, year),\n",
        " FOREIGN KEY (product_id) REFERENCES products(product_id)\n",
        ");\n",
        "INSERT INTO sales (product_id, year, total_sales_revenue) VALUES\n",
        " (1, 2019, 1000.00),\n",
        " (1, 2020, 1200.00),\n",
        " (1, 2021, 1100.00),\n",
        " (2, 2019, 500.00),\n",
        " (2, 2020, 600.00),\n",
        " (2, 2021, 900.00),\n",
        " (3, 2019, 300.00),\n",
        " (3, 2020, 450.00),\n",
        " (3, 2021, 400.00);"
      ],
      "metadata": {
        "colab": {
          "base_uri": "https://localhost:8080/"
        },
        "id": "B6fGpDiYYJA_",
        "outputId": "bb44dee8-8290-4145-d8de-e0f0da3f3ccc"
      },
      "execution_count": 30,
      "outputs": [
        {
          "output_type": "stream",
          "name": "stdout",
          "text": [
            " * sqlite:///test.db\n",
            "Done.\n",
            "3 rows affected.\n",
            "Done.\n",
            "9 rows affected.\n"
          ]
        },
        {
          "output_type": "execute_result",
          "data": {
            "text/plain": [
              "[]"
            ]
          },
          "metadata": {},
          "execution_count": 30
        }
      ]
    },
    {
      "cell_type": "code",
      "source": [
        "%%sql\n",
        "WITH cte1 AS (WITH cte AS (\n",
        "                    SELECT *, IFNULL(total_sales_revenue-LAG(total_sales_revenue)OVER(PARTITION BY product_id),0) diff,\n",
        "                    ROW_NUMBER() OVER(PARTITION BY product_id) rn  FROM sales )\n",
        "                SELECT *, COUNT(rn)OVER(PARTITION BY product_id) rn1 FROM cte\n",
        "                WHERE diff >= 0)\n",
        "SELECT DISTINCT p.product_id,p.product_name, p.category FROM cte1\n",
        "INNER JOIN\n",
        "products p\n",
        "ON cte1.product_id = p.product_id\n",
        "WHERE rn1 in (SELECT COUNT(year) FROM sales GROUP BY product_id) ;"
      ],
      "metadata": {
        "colab": {
          "base_uri": "https://localhost:8080/",
          "height": 95
        },
        "id": "OsIBxIFUYQjr",
        "outputId": "ab8b458a-7f69-4677-a934-e01705555524"
      },
      "execution_count": 31,
      "outputs": [
        {
          "output_type": "stream",
          "name": "stdout",
          "text": [
            " * sqlite:///test.db\n",
            "Done.\n"
          ]
        },
        {
          "output_type": "execute_result",
          "data": {
            "text/plain": [
              "[(2, 'Jeans', 'Clothing')]"
            ],
            "text/html": [
              "<table>\n",
              "    <thead>\n",
              "        <tr>\n",
              "            <th>product_id</th>\n",
              "            <th>product_name</th>\n",
              "            <th>category</th>\n",
              "        </tr>\n",
              "    </thead>\n",
              "    <tbody>\n",
              "        <tr>\n",
              "            <td>2</td>\n",
              "            <td>Jeans</td>\n",
              "            <td>Clothing</td>\n",
              "        </tr>\n",
              "    </tbody>\n",
              "</table>"
            ]
          },
          "metadata": {},
          "execution_count": 31
        }
      ]
    },
    {
      "cell_type": "markdown",
      "source": [
        "**Problem Statement 11 : Write a SQL query to find the highest grade with its corresponding course for each student. In case of a tie, you should find the course with the smallest course_id. The output must be sorted by increasing student_id.**\n"
      ],
      "metadata": {
        "id": "YxOH7k38YYdL"
      }
    },
    {
      "cell_type": "code",
      "source": [
        "%%sql\n",
        "Create table If Not Exists Enrollments\n",
        "(student_id int,\n",
        "course_id int,\n",
        "grade int\n",
        ");\n",
        "\n",
        "insert into Enrollments (student_id, course_id, grade) values ('2', '2', '95') ,\n",
        "('2', '3', '95'),\n",
        "('1', '1', '90'),\n",
        "('1', '2', '99'),\n",
        "('3', '1', '80'),\n",
        "('3', '2', '75'),\n",
        "('3', '3', '82');"
      ],
      "metadata": {
        "colab": {
          "base_uri": "https://localhost:8080/"
        },
        "id": "bg3hNlnwYgHT",
        "outputId": "b54939cf-1136-404a-928e-d24455ddf9b0"
      },
      "execution_count": 32,
      "outputs": [
        {
          "output_type": "stream",
          "name": "stdout",
          "text": [
            " * sqlite:///test.db\n",
            "Done.\n",
            "7 rows affected.\n"
          ]
        },
        {
          "output_type": "execute_result",
          "data": {
            "text/plain": [
              "[]"
            ]
          },
          "metadata": {},
          "execution_count": 32
        }
      ]
    },
    {
      "cell_type": "code",
      "source": [
        "%%sql\n",
        "with cte2 AS (\n",
        "    WITH cte AS(\n",
        "        SELECT *, MAX(grade) OVER(PARTITION BY student_id) max_grade\n",
        "        FROM Enrollments )\n",
        "    SELECT *, ROW_NUMBER() OVER(PARTITION BY student_id ORDER BY course_id )rn FROM cte\n",
        "    WHERE grade=max_grade )\n",
        "SELECT student_id, course_id, grade FROM cte2\n",
        "WHERE rn = 1\n",
        "ORDER BY student_id ASC;"
      ],
      "metadata": {
        "colab": {
          "base_uri": "https://localhost:8080/",
          "height": 136
        },
        "id": "Kv-SqoFtYknE",
        "outputId": "3df6fb98-4438-4bf8-aa14-5ead5137b5d3"
      },
      "execution_count": 33,
      "outputs": [
        {
          "output_type": "stream",
          "name": "stdout",
          "text": [
            " * sqlite:///test.db\n",
            "Done.\n"
          ]
        },
        {
          "output_type": "execute_result",
          "data": {
            "text/plain": [
              "[(1, 2, 99), (2, 2, 95), (3, 3, 82)]"
            ],
            "text/html": [
              "<table>\n",
              "    <thead>\n",
              "        <tr>\n",
              "            <th>student_id</th>\n",
              "            <th>course_id</th>\n",
              "            <th>grade</th>\n",
              "        </tr>\n",
              "    </thead>\n",
              "    <tbody>\n",
              "        <tr>\n",
              "            <td>1</td>\n",
              "            <td>2</td>\n",
              "            <td>99</td>\n",
              "        </tr>\n",
              "        <tr>\n",
              "            <td>2</td>\n",
              "            <td>2</td>\n",
              "            <td>95</td>\n",
              "        </tr>\n",
              "        <tr>\n",
              "            <td>3</td>\n",
              "            <td>3</td>\n",
              "            <td>82</td>\n",
              "        </tr>\n",
              "    </tbody>\n",
              "</table>"
            ]
          },
          "metadata": {},
          "execution_count": 33
        }
      ]
    },
    {
      "cell_type": "markdown",
      "source": [
        "**Problem Statement 12 :write a query to get the output**.\n"
      ],
      "metadata": {
        "id": "88tI7-PTZvc1"
      }
    },
    {
      "cell_type": "markdown",
      "source": [
        "![Screenshot 2024-08-31 131338.png](data:image/png;base64,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)"
      ],
      "metadata": {
        "id": "CPdKMzsGZ3jV"
      }
    },
    {
      "cell_type": "code",
      "source": [
        "%%sql\n",
        "CREATE TABLE emp (ID int, NAME varchar(10));\n",
        "\n",
        "INSERT INTO emp (ID, NAME)\n",
        "VALUES (1,'Emp1'), (2,'Emp2'), (3,'Emp3'), (4,'Emp4'),\n",
        "(5,'Emp5'), (6,'Emp6'), (7,'Emp7'), (8,'Emp8');"
      ],
      "metadata": {
        "colab": {
          "base_uri": "https://localhost:8080/"
        },
        "id": "kShlBqNCZ7wo",
        "outputId": "adc32205-976a-49c3-b2c5-1118b14411e3"
      },
      "execution_count": 34,
      "outputs": [
        {
          "output_type": "stream",
          "name": "stdout",
          "text": [
            " * sqlite:///test.db\n",
            "Done.\n",
            "8 rows affected.\n"
          ]
        },
        {
          "output_type": "execute_result",
          "data": {
            "text/plain": [
              "[]"
            ]
          },
          "metadata": {},
          "execution_count": 34
        }
      ]
    },
    {
      "cell_type": "code",
      "source": [
        "%%sql\n",
        "WITH cte3 AS (\n",
        "    WITH cte1 AS (\n",
        "        SELECT ROW_NUMBER() OVER() rn1, ID || ' ' || NAME AS combo1\n",
        "        FROM emp\n",
        "        WHERE MOD(ID, 2) = 1\n",
        "    ),\n",
        "    cte2 AS (\n",
        "        SELECT ROW_NUMBER() OVER() rn2, ID || ' ' || NAME AS combo2\n",
        "        FROM emp\n",
        "        WHERE MOD(ID, 2) = 0\n",
        "    )\n",
        "    SELECT combo1 || ' , ' || combo2 AS results\n",
        "    FROM cte1\n",
        "    INNER JOIN cte2\n",
        "    ON rn1 = rn2\n",
        ")\n",
        "SELECT *, ROW_NUMBER() OVER() AS `groups`\n",
        "FROM cte3;"
      ],
      "metadata": {
        "colab": {
          "base_uri": "https://localhost:8080/",
          "height": 157
        },
        "id": "4lB2DWxTaeCz",
        "outputId": "24fedfb5-465a-4f2a-ccee-9545a0130968"
      },
      "execution_count": 36,
      "outputs": [
        {
          "output_type": "stream",
          "name": "stdout",
          "text": [
            " * sqlite:///test.db\n",
            "Done.\n"
          ]
        },
        {
          "output_type": "execute_result",
          "data": {
            "text/plain": [
              "[('1 Emp1 , 2 Emp2', 1),\n",
              " ('3 Emp3 , 4 Emp4', 2),\n",
              " ('5 Emp5 , 6 Emp6', 3),\n",
              " ('7 Emp7 , 8 Emp8', 4)]"
            ],
            "text/html": [
              "<table>\n",
              "    <thead>\n",
              "        <tr>\n",
              "            <th>results</th>\n",
              "            <th>groups</th>\n",
              "        </tr>\n",
              "    </thead>\n",
              "    <tbody>\n",
              "        <tr>\n",
              "            <td>1 Emp1 , 2 Emp2</td>\n",
              "            <td>1</td>\n",
              "        </tr>\n",
              "        <tr>\n",
              "            <td>3 Emp3 , 4 Emp4</td>\n",
              "            <td>2</td>\n",
              "        </tr>\n",
              "        <tr>\n",
              "            <td>5 Emp5 , 6 Emp6</td>\n",
              "            <td>3</td>\n",
              "        </tr>\n",
              "        <tr>\n",
              "            <td>7 Emp7 , 8 Emp8</td>\n",
              "            <td>4</td>\n",
              "        </tr>\n",
              "    </tbody>\n",
              "</table>"
            ]
          },
          "metadata": {},
          "execution_count": 36
        }
      ]
    },
    {
      "cell_type": "markdown",
      "source": [
        "**Problem Statement 13 : Find the origin and final destination for each cid**.\n"
      ],
      "metadata": {
        "id": "BE0a2yzpcggi"
      }
    },
    {
      "cell_type": "code",
      "source": [
        "%%sql\n",
        "CREATE TABLE flights\n",
        "(\n",
        "    cid VARCHAR(512),\n",
        "    fid VARCHAR(512),\n",
        "    origin VARCHAR(512),\n",
        "    Destination VARCHAR(512)\n",
        ");\n",
        "\n",
        "INSERT INTO flights (cid, fid, origin, Destination) VALUES ('1', 'f1', 'Del', 'Hyd');\n",
        "INSERT INTO flights (cid, fid, origin, Destination) VALUES ('1', 'f2', 'Hyd', 'Blr');\n",
        "INSERT INTO flights (cid, fid, origin, Destination) VALUES ('2', 'f3', 'Mum', 'Agra');\n",
        "INSERT INTO flights (cid, fid, origin, Destination) VALUES ('2', 'f4', 'Agra', 'Kol');"
      ],
      "metadata": {
        "colab": {
          "base_uri": "https://localhost:8080/"
        },
        "id": "bP6eb0gyctwY",
        "outputId": "3bd4237d-26af-4a84-d72a-b05d1e81bed4"
      },
      "execution_count": 42,
      "outputs": [
        {
          "output_type": "stream",
          "name": "stdout",
          "text": [
            " * sqlite:///test.db\n",
            "Done.\n",
            "1 rows affected.\n",
            "1 rows affected.\n",
            "1 rows affected.\n",
            "1 rows affected.\n"
          ]
        },
        {
          "output_type": "execute_result",
          "data": {
            "text/plain": [
              "[]"
            ]
          },
          "metadata": {},
          "execution_count": 42
        }
      ]
    },
    {
      "cell_type": "code",
      "source": [
        "%%sql\n",
        "SELECT a.cid, a.origin, b.Destination final_destination FROM flights a, flights b WHERE\n",
        "a.Destination = b.origin"
      ],
      "metadata": {
        "colab": {
          "base_uri": "https://localhost:8080/",
          "height": 116
        },
        "id": "4z43eWezc2f7",
        "outputId": "8f69974a-988c-4f38-8792-fbfcb0e0e022"
      },
      "execution_count": 43,
      "outputs": [
        {
          "output_type": "stream",
          "name": "stdout",
          "text": [
            " * sqlite:///test.db\n",
            "Done.\n"
          ]
        },
        {
          "output_type": "execute_result",
          "data": {
            "text/plain": [
              "[('1', 'Del', 'Blr'), ('2', 'Mum', 'Kol')]"
            ],
            "text/html": [
              "<table>\n",
              "    <thead>\n",
              "        <tr>\n",
              "            <th>cid</th>\n",
              "            <th>origin</th>\n",
              "            <th>final_destination</th>\n",
              "        </tr>\n",
              "    </thead>\n",
              "    <tbody>\n",
              "        <tr>\n",
              "            <td>1</td>\n",
              "            <td>Del</td>\n",
              "            <td>Blr</td>\n",
              "        </tr>\n",
              "        <tr>\n",
              "            <td>2</td>\n",
              "            <td>Mum</td>\n",
              "            <td>Kol</td>\n",
              "        </tr>\n",
              "    </tbody>\n",
              "</table>"
            ]
          },
          "metadata": {},
          "execution_count": 43
        }
      ]
    },
    {
      "cell_type": "markdown",
      "source": [
        "**Problem Statement 14 : Find the count of new customers added in each month**."
      ],
      "metadata": {
        "id": "P-pQVI1dc9lI"
      }
    },
    {
      "cell_type": "code",
      "source": [
        "%%sql\n",
        "DROP TABLE IF EXISTS sales;\n",
        "CREATE TABLE sales\n",
        "(\n",
        "    order_date date,\n",
        "    customer VARCHAR(512),\n",
        "    qty INT\n",
        ");\n",
        "\n",
        "INSERT INTO sales (order_date, customer, qty) VALUES ('2021-01-01', 'C1', '20');\n",
        "INSERT INTO sales (order_date, customer, qty) VALUES ('2021-01-01', 'C2', '30');\n",
        "INSERT INTO sales (order_date, customer, qty) VALUES ('2021-02-01', 'C1', '10');\n",
        "INSERT INTO sales (order_date, customer, qty) VALUES ('2021-02-01', 'C3', '15');\n",
        "INSERT INTO sales (order_date, customer, qty) VALUES ('2021-03-01', 'C5', '19');\n",
        "INSERT INTO sales (order_date, customer, qty) VALUES ('2021-03-01', 'C4', '10');\n",
        "INSERT INTO sales (order_date, customer, qty) VALUES ('2021-04-01', 'C3', '13');\n",
        "INSERT INTO sales (order_date, customer, qty) VALUES ('2021-04-01', 'C5', '15');\n",
        "INSERT INTO sales (order_date, customer, qty) VALUES ('2021-04-01', 'C6', '10');\n"
      ],
      "metadata": {
        "colab": {
          "base_uri": "https://localhost:8080/"
        },
        "id": "0AUmsMIpdH1p",
        "outputId": "abb05667-56cc-45a7-c8e1-990e182e5d28"
      },
      "execution_count": 45,
      "outputs": [
        {
          "output_type": "stream",
          "name": "stdout",
          "text": [
            " * sqlite:///test.db\n",
            "Done.\n",
            "Done.\n",
            "1 rows affected.\n",
            "1 rows affected.\n",
            "1 rows affected.\n",
            "1 rows affected.\n",
            "1 rows affected.\n",
            "1 rows affected.\n",
            "1 rows affected.\n",
            "1 rows affected.\n",
            "1 rows affected.\n"
          ]
        },
        {
          "output_type": "execute_result",
          "data": {
            "text/plain": [
              "[]"
            ]
          },
          "metadata": {},
          "execution_count": 45
        }
      ]
    },
    {
      "cell_type": "code",
      "source": [
        "%%sql\n",
        "WITH cte1 AS(\n",
        "   WITH cte AS (\n",
        "        SELECT *, ROW_NUMBER() OVER(PARTITION BY customer ORDER BY order_date) rn FROM sales)\n",
        "    SELECT order_date, rn FROM cte WHERE rn = 1 )\n",
        "SELECT order_date, SUM(rn) count_new_cust FROM cte1 GROUP BY order_date ;\n"
      ],
      "metadata": {
        "colab": {
          "base_uri": "https://localhost:8080/",
          "height": 157
        },
        "id": "_gZlVEQWde3d",
        "outputId": "9a836b36-ebb2-4161-ea5d-4efd8804e17f"
      },
      "execution_count": 46,
      "outputs": [
        {
          "output_type": "stream",
          "name": "stdout",
          "text": [
            " * sqlite:///test.db\n",
            "Done.\n"
          ]
        },
        {
          "output_type": "execute_result",
          "data": {
            "text/plain": [
              "[('2021-01-01', 2), ('2021-02-01', 1), ('2021-03-01', 2), ('2021-04-01', 1)]"
            ],
            "text/html": [
              "<table>\n",
              "    <thead>\n",
              "        <tr>\n",
              "            <th>order_date</th>\n",
              "            <th>count_new_cust</th>\n",
              "        </tr>\n",
              "    </thead>\n",
              "    <tbody>\n",
              "        <tr>\n",
              "            <td>2021-01-01</td>\n",
              "            <td>2</td>\n",
              "        </tr>\n",
              "        <tr>\n",
              "            <td>2021-02-01</td>\n",
              "            <td>1</td>\n",
              "        </tr>\n",
              "        <tr>\n",
              "            <td>2021-03-01</td>\n",
              "            <td>2</td>\n",
              "        </tr>\n",
              "        <tr>\n",
              "            <td>2021-04-01</td>\n",
              "            <td>1</td>\n",
              "        </tr>\n",
              "    </tbody>\n",
              "</table>"
            ]
          },
          "metadata": {},
          "execution_count": 46
        }
      ]
    },
    {
      "cell_type": "markdown",
      "source": [
        "**Problem Statement 15** : Write an SQL query to find companies who have 𝐚𝐭 𝐥𝐞𝐚𝐬𝐭 𝟐 𝐮𝐬𝐞𝐫𝐬 𝐰𝐡𝐨 𝐬𝐩𝐞𝐚𝐤𝐬 𝐄𝐧𝐠𝐥𝐢𝐬𝐡 𝐚𝐧𝐝 𝐆𝐞𝐫𝐦𝐚𝐧 both the languages."
      ],
      "metadata": {
        "id": "Cf5o-gq5gvui"
      }
    },
    {
      "cell_type": "code",
      "source": [
        "%%sql\n",
        "create table company_users\n",
        "(\n",
        "company_id int,\n",
        "user_id int,\n",
        "language varchar(20)\n",
        ");\n",
        "insert into company_users values (1,1,'English')\n",
        ",(1,1,'German')\n",
        ",(1,2,'English')\n",
        ",(1,3,'German')\n",
        ",(1,3,'English')\n",
        ",(1,4,'English')\n",
        ",(2,5,'English')\n",
        ",(2,5,'German')\n",
        ",(2,5,'Spanish')\n",
        ",(2,6,'German')\n",
        ",(2,6,'Spanish')\n",
        ",(2,7,'English');"
      ],
      "metadata": {
        "colab": {
          "base_uri": "https://localhost:8080/"
        },
        "id": "Yg9aYD7vhVKM",
        "outputId": "ace84e16-ab96-4db1-95da-97341434e31c"
      },
      "execution_count": 51,
      "outputs": [
        {
          "output_type": "stream",
          "name": "stdout",
          "text": [
            " * sqlite:///test.db\n",
            "Done.\n",
            "12 rows affected.\n"
          ]
        },
        {
          "output_type": "execute_result",
          "data": {
            "text/plain": [
              "[]"
            ]
          },
          "metadata": {},
          "execution_count": 51
        }
      ]
    },
    {
      "cell_type": "code",
      "source": [
        "%%sql\n",
        "WITH cte1 AS (SELECT * FROM company_users WHERE language = \"English\" ) ,\n",
        "cte2 AS (SELECT * FROM company_users WHERE language = \"German\" )\n",
        "\n",
        "SELECT cte1.company_id FROM cte1\n",
        "INNER JOIN cte2\n",
        "ON cte1.company_id = cte2.company_id AND cte1.user_id = cte2.user_id\n",
        "GROUP BY cte1.company_id\n",
        "HAVING COUNT(cte1.user_id) >= 2 ;\n"
      ],
      "metadata": {
        "colab": {
          "base_uri": "https://localhost:8080/",
          "height": 95
        },
        "id": "cs5rH12mhbYx",
        "outputId": "fa6681d4-6574-4eda-fcbe-4116f8722d2c"
      },
      "execution_count": 52,
      "outputs": [
        {
          "output_type": "stream",
          "name": "stdout",
          "text": [
            " * sqlite:///test.db\n",
            "Done.\n"
          ]
        },
        {
          "output_type": "execute_result",
          "data": {
            "text/plain": [
              "[(1,)]"
            ],
            "text/html": [
              "<table>\n",
              "    <thead>\n",
              "        <tr>\n",
              "            <th>company_id</th>\n",
              "        </tr>\n",
              "    </thead>\n",
              "    <tbody>\n",
              "        <tr>\n",
              "            <td>1</td>\n",
              "        </tr>\n",
              "    </tbody>\n",
              "</table>"
            ]
          },
          "metadata": {},
          "execution_count": 52
        }
      ]
    },
    {
      "cell_type": "markdown",
      "source": [
        "Problem Statement 16 : Write a query to retrieve a list of employees who earn 𝐦𝐨𝐫𝐞 𝐭𝐡𝐚𝐧 𝐭𝐡𝐞 𝐚𝐯𝐞𝐫𝐚𝐠𝐞 𝐬𝐚𝐥𝐚𝐫𝐲 within their respective departments.\n",
        "\n"
      ],
      "metadata": {
        "id": "639iZHsTiLBV"
      }
    },
    {
      "cell_type": "code",
      "source": [
        "%%sql\n",
        "DROP TABLE IF EXISTS Employee;\n",
        "CREATE TABLE Employee (\n",
        "EmployeeID INT PRIMARY KEY,\n",
        "FirstName VARCHAR(50),\n",
        "LastName VARCHAR(50),\n",
        "Department VARCHAR(50),\n",
        "Salary DECIMAL(10, 2)\n",
        ");\n",
        "INSERT INTO Employee VALUES\n",
        "(1, 'John', 'Doe', 'HR', 55000.00),\n",
        "(2, 'Jane', 'Smith', 'IT', 60000.00),\n",
        "(3, 'Richard', 'Johnson', 'Finance', 68000.00),\n",
        "(4, 'Emily', 'Davis', 'IT', 52000.00),\n",
        "(5, 'Michael', 'Wilson', 'HR', 58000.00),\n",
        "(6, 'Maria', 'Brown', 'Marketing', 54000.00),\n",
        "(7, 'David', 'Lee', 'Finance', 72000.00),\n",
        "(8, 'Sarah', 'Clark', 'Marketing', 56000.00),\n",
        "(9, 'James', 'White', 'IT', 61000.00),\n",
        "(10, 'Laura', 'Anderson', 'HR', 57000.00);\n"
      ],
      "metadata": {
        "colab": {
          "base_uri": "https://localhost:8080/"
        },
        "id": "C77aVVk6iclf",
        "outputId": "c27cea9b-60d8-4341-a2bf-dad59b374597"
      },
      "execution_count": 56,
      "outputs": [
        {
          "output_type": "stream",
          "name": "stdout",
          "text": [
            " * sqlite:///test.db\n",
            "Done.\n",
            "Done.\n",
            "10 rows affected.\n"
          ]
        },
        {
          "output_type": "execute_result",
          "data": {
            "text/plain": [
              "[]"
            ]
          },
          "metadata": {},
          "execution_count": 56
        }
      ]
    },
    {
      "cell_type": "code",
      "source": [
        "%%sql\n",
        "WITH cte AS\n",
        "( SELECT Department, FirstName, LastName, Salary,\n",
        "AVG(Salary) OVER(PARTITION BY Department) avg_dept_salary\n",
        "FROM employee )\n",
        "SELECT * FROM cte\n",
        "WHERE Salary > avg_dept_salary\n"
      ],
      "metadata": {
        "colab": {
          "base_uri": "https://localhost:8080/",
          "height": 199
        },
        "id": "f-pQHnwFi021",
        "outputId": "15d51a0c-e6b8-458e-af22-a4293cead049"
      },
      "execution_count": 57,
      "outputs": [
        {
          "output_type": "stream",
          "name": "stdout",
          "text": [
            " * sqlite:///test.db\n",
            "Done.\n"
          ]
        },
        {
          "output_type": "execute_result",
          "data": {
            "text/plain": [
              "[('Finance', 'David', 'Lee', 72000, 70000.0),\n",
              " ('HR', 'Michael', 'Wilson', 58000, 56666.666666666664),\n",
              " ('HR', 'Laura', 'Anderson', 57000, 56666.666666666664),\n",
              " ('IT', 'Jane', 'Smith', 60000, 57666.666666666664),\n",
              " ('IT', 'James', 'White', 61000, 57666.666666666664),\n",
              " ('Marketing', 'Sarah', 'Clark', 56000, 55000.0)]"
            ],
            "text/html": [
              "<table>\n",
              "    <thead>\n",
              "        <tr>\n",
              "            <th>Department</th>\n",
              "            <th>FirstName</th>\n",
              "            <th>LastName</th>\n",
              "            <th>Salary</th>\n",
              "            <th>avg_dept_salary</th>\n",
              "        </tr>\n",
              "    </thead>\n",
              "    <tbody>\n",
              "        <tr>\n",
              "            <td>Finance</td>\n",
              "            <td>David</td>\n",
              "            <td>Lee</td>\n",
              "            <td>72000</td>\n",
              "            <td>70000.0</td>\n",
              "        </tr>\n",
              "        <tr>\n",
              "            <td>HR</td>\n",
              "            <td>Michael</td>\n",
              "            <td>Wilson</td>\n",
              "            <td>58000</td>\n",
              "            <td>56666.666666666664</td>\n",
              "        </tr>\n",
              "        <tr>\n",
              "            <td>HR</td>\n",
              "            <td>Laura</td>\n",
              "            <td>Anderson</td>\n",
              "            <td>57000</td>\n",
              "            <td>56666.666666666664</td>\n",
              "        </tr>\n",
              "        <tr>\n",
              "            <td>IT</td>\n",
              "            <td>Jane</td>\n",
              "            <td>Smith</td>\n",
              "            <td>60000</td>\n",
              "            <td>57666.666666666664</td>\n",
              "        </tr>\n",
              "        <tr>\n",
              "            <td>IT</td>\n",
              "            <td>James</td>\n",
              "            <td>White</td>\n",
              "            <td>61000</td>\n",
              "            <td>57666.666666666664</td>\n",
              "        </tr>\n",
              "        <tr>\n",
              "            <td>Marketing</td>\n",
              "            <td>Sarah</td>\n",
              "            <td>Clark</td>\n",
              "            <td>56000</td>\n",
              "            <td>55000.0</td>\n",
              "        </tr>\n",
              "    </tbody>\n",
              "</table>"
            ]
          },
          "metadata": {},
          "execution_count": 57
        }
      ]
    },
    {
      "cell_type": "markdown",
      "source": [
        "**Problem Statement 17** : Write an SQL query to show the 𝐬𝐞𝐜𝐨𝐧𝐝 𝐦𝐨𝐬𝐭 𝐫𝐞𝐜𝐞𝐧𝐭 𝐚𝐜𝐭𝐢𝐯𝐢𝐭𝐲 𝐨𝐟 𝐞𝐚𝐜𝐡 𝐮𝐬𝐞𝐫.If the user only has one activity, return that one. A user 𝐜𝐚𝐧'𝐭 𝐩𝐞𝐫𝐟𝐨𝐫𝐦 𝐦𝐨𝐫𝐞 𝐭𝐡𝐚𝐧 𝐨𝐧𝐞 𝐚𝐜𝐭𝐢𝐯𝐢𝐭𝐲 𝐚𝐭 𝐭𝐡𝐞 𝐬𝐚𝐦𝐞 𝐭𝐢𝐦𝐞.\n"
      ],
      "metadata": {
        "id": "52gDC6zgjHSx"
      }
    },
    {
      "cell_type": "code",
      "source": [
        "%%sql\n",
        "create table UserActivity(\n",
        "username varchar(20) ,\n",
        "activity varchar(20),\n",
        "startDate Date ,\n",
        "endDate Date\n",
        ");\n",
        "insert into UserActivity values\n",
        "('Alice','Travel','2020-02-12','2020-02-20')\n",
        ",('Alice','Dancing','2020-02-21','2020-02-23')\n",
        ",('Alice','Travel','2020-02-24','2020-02-28')\n",
        ",('Bob','Travel','2020-02-11','2020-02-18');\n"
      ],
      "metadata": {
        "colab": {
          "base_uri": "https://localhost:8080/"
        },
        "id": "adffj56zjOlj",
        "outputId": "d90271be-d498-4c17-d60e-1f71a5c82401"
      },
      "execution_count": 58,
      "outputs": [
        {
          "output_type": "stream",
          "name": "stdout",
          "text": [
            " * sqlite:///test.db\n",
            "Done.\n",
            "4 rows affected.\n"
          ]
        },
        {
          "output_type": "execute_result",
          "data": {
            "text/plain": [
              "[]"
            ]
          },
          "metadata": {},
          "execution_count": 58
        }
      ]
    },
    {
      "cell_type": "code",
      "source": [
        "%%sql\n",
        "WITH cte AS\n",
        "( SELECT * ,\n",
        "ROW_NUMBER() OVER(PARTITION BY username ORDER BY `endDate` DESC) a,\n",
        "CASE\n",
        "    WHEN COUNT(activity) OVER(PARTITION BY username) = 1 THEN 1\n",
        "    ELSE  2\n",
        "END rn\n",
        "FROM useractivity )\n",
        "SELECT username, activity, startDate, endDate\n",
        "FROM cte WHERE a = rn ;"
      ],
      "metadata": {
        "colab": {
          "base_uri": "https://localhost:8080/",
          "height": 116
        },
        "id": "naPwE0sBjUck",
        "outputId": "ad158bcc-cc33-4b9f-af02-144974e48094"
      },
      "execution_count": 59,
      "outputs": [
        {
          "output_type": "stream",
          "name": "stdout",
          "text": [
            " * sqlite:///test.db\n",
            "Done.\n"
          ]
        },
        {
          "output_type": "execute_result",
          "data": {
            "text/plain": [
              "[('Alice', 'Dancing', '2020-02-21', '2020-02-23'),\n",
              " ('Bob', 'Travel', '2020-02-11', '2020-02-18')]"
            ],
            "text/html": [
              "<table>\n",
              "    <thead>\n",
              "        <tr>\n",
              "            <th>username</th>\n",
              "            <th>activity</th>\n",
              "            <th>startDate</th>\n",
              "            <th>endDate</th>\n",
              "        </tr>\n",
              "    </thead>\n",
              "    <tbody>\n",
              "        <tr>\n",
              "            <td>Alice</td>\n",
              "            <td>Dancing</td>\n",
              "            <td>2020-02-21</td>\n",
              "            <td>2020-02-23</td>\n",
              "        </tr>\n",
              "        <tr>\n",
              "            <td>Bob</td>\n",
              "            <td>Travel</td>\n",
              "            <td>2020-02-11</td>\n",
              "            <td>2020-02-18</td>\n",
              "        </tr>\n",
              "    </tbody>\n",
              "</table>"
            ]
          },
          "metadata": {},
          "execution_count": 59
        }
      ]
    },
    {
      "cell_type": "markdown",
      "source": [
        "**Problem Statement 18** :\n",
        "\n",
        "*   **Part (a)Find Employees with a salary more than their manager's salary.**\n",
        "\n",
        "\n",
        "\n"
      ],
      "metadata": {
        "id": "q4sNyXbZjfGu"
      }
    },
    {
      "cell_type": "code",
      "source": [
        "%%sql\n",
        "DROP TABLE IF EXISTS employee;\n",
        "create table employee(\n",
        "emp_id int,\n",
        "emp_name varchar(20),\n",
        "dept_id int,\n",
        "salary int,\n",
        "manager_id int,\n",
        "emp_age int\n",
        ");\n",
        "insert into employee values(1,'Ankit',100,10000,4,39);\n",
        "insert into employee values(2,'Mohit',100,15000,5,48);\n",
        "insert into employee values(3,'Vikas',100,10000,4,37);\n",
        "insert into employee values(4,'Rohit',100,5000,2,16);\n",
        "insert into employee values(5,'Mudit',200,12000,6,55);\n",
        "insert into employee values(6,'Agam',200,12000,2,14);\n",
        "insert into employee values(7,'Sanjay',200,9000,2,13);\n",
        "insert into employee values(8,'Ashish',200,5000,2,12);\n",
        "insert into employee values(9,'Mukesh',300,6000,6,51);\n",
        "insert into employee values(10,'Rakesh',500,7000,6,50);\n"
      ],
      "metadata": {
        "colab": {
          "base_uri": "https://localhost:8080/"
        },
        "id": "dKxaweYaj-iu",
        "outputId": "7cec42e5-9f85-4fa1-e288-015f243c0f8b"
      },
      "execution_count": 61,
      "outputs": [
        {
          "output_type": "stream",
          "name": "stdout",
          "text": [
            " * sqlite:///test.db\n",
            "Done.\n",
            "Done.\n",
            "1 rows affected.\n",
            "1 rows affected.\n",
            "1 rows affected.\n",
            "1 rows affected.\n",
            "1 rows affected.\n",
            "1 rows affected.\n",
            "1 rows affected.\n",
            "1 rows affected.\n",
            "1 rows affected.\n",
            "1 rows affected.\n"
          ]
        },
        {
          "output_type": "execute_result",
          "data": {
            "text/plain": [
              "[]"
            ]
          },
          "metadata": {},
          "execution_count": 61
        }
      ]
    },
    {
      "cell_type": "code",
      "source": [
        "%%sql\n",
        "SELECT b.emp_name employee_name, a.emp_name manager_name, b.salary employee_salary, a.salary manager_salary\n",
        "FROM employee a\n",
        "INNER JOIN\n",
        "employee b\n",
        "on a.emp_id = b.manager_id\n",
        "WHERE b.salary  > a.salary  ;\n"
      ],
      "metadata": {
        "colab": {
          "base_uri": "https://localhost:8080/",
          "height": 136
        },
        "id": "QUrjpfv0kMQi",
        "outputId": "44ccb9b1-1a93-478d-ba0c-479d29bc6b6c"
      },
      "execution_count": 62,
      "outputs": [
        {
          "output_type": "stream",
          "name": "stdout",
          "text": [
            " * sqlite:///test.db\n",
            "Done.\n"
          ]
        },
        {
          "output_type": "execute_result",
          "data": {
            "text/plain": [
              "[('Ankit', 'Rohit', 10000, 5000),\n",
              " ('Vikas', 'Rohit', 10000, 5000),\n",
              " ('Mohit', 'Mudit', 15000, 12000)]"
            ],
            "text/html": [
              "<table>\n",
              "    <thead>\n",
              "        <tr>\n",
              "            <th>employee_name</th>\n",
              "            <th>manager_name</th>\n",
              "            <th>employee_salary</th>\n",
              "            <th>manager_salary</th>\n",
              "        </tr>\n",
              "    </thead>\n",
              "    <tbody>\n",
              "        <tr>\n",
              "            <td>Ankit</td>\n",
              "            <td>Rohit</td>\n",
              "            <td>10000</td>\n",
              "            <td>5000</td>\n",
              "        </tr>\n",
              "        <tr>\n",
              "            <td>Vikas</td>\n",
              "            <td>Rohit</td>\n",
              "            <td>10000</td>\n",
              "            <td>5000</td>\n",
              "        </tr>\n",
              "        <tr>\n",
              "            <td>Mohit</td>\n",
              "            <td>Mudit</td>\n",
              "            <td>15000</td>\n",
              "            <td>12000</td>\n",
              "        </tr>\n",
              "    </tbody>\n",
              "</table>"
            ]
          },
          "metadata": {},
          "execution_count": 62
        }
      ]
    },
    {
      "cell_type": "markdown",
      "source": [
        "**Problem Statement 18 :\n",
        "Part (b) Write a query to print emp name, manager name and senior manager name (senior manager is manager's manager).**\n"
      ],
      "metadata": {
        "id": "i1AxgBDukYr5"
      }
    },
    {
      "cell_type": "code",
      "source": [
        "%%sql\n",
        "SELECT a.emp_name employee_name, b.emp_name manager_name, c.emp_name senior_manager_name\n",
        "FROM employee a\n",
        "INNER JOIN\n",
        "employee b ON a.manager_id = b.emp_id\n",
        "INNER JOIN\n",
        "employee c ON b.manager_id = c.emp_id\n",
        "ORDER BY b.emp_id;\n"
      ],
      "metadata": {
        "colab": {
          "base_uri": "https://localhost:8080/",
          "height": 282
        },
        "id": "fJ22Q3K_kdMX",
        "outputId": "8e341265-07bc-4b7d-9347-27c08c50d942"
      },
      "execution_count": 63,
      "outputs": [
        {
          "output_type": "stream",
          "name": "stdout",
          "text": [
            " * sqlite:///test.db\n",
            "Done.\n"
          ]
        },
        {
          "output_type": "execute_result",
          "data": {
            "text/plain": [
              "[('Rohit', 'Mohit', 'Mudit'),\n",
              " ('Agam', 'Mohit', 'Mudit'),\n",
              " ('Sanjay', 'Mohit', 'Mudit'),\n",
              " ('Ashish', 'Mohit', 'Mudit'),\n",
              " ('Ankit', 'Rohit', 'Mohit'),\n",
              " ('Vikas', 'Rohit', 'Mohit'),\n",
              " ('Mohit', 'Mudit', 'Agam'),\n",
              " ('Mudit', 'Agam', 'Mohit'),\n",
              " ('Mukesh', 'Agam', 'Mohit'),\n",
              " ('Rakesh', 'Agam', 'Mohit')]"
            ],
            "text/html": [
              "<table>\n",
              "    <thead>\n",
              "        <tr>\n",
              "            <th>employee_name</th>\n",
              "            <th>manager_name</th>\n",
              "            <th>senior_manager_name</th>\n",
              "        </tr>\n",
              "    </thead>\n",
              "    <tbody>\n",
              "        <tr>\n",
              "            <td>Rohit</td>\n",
              "            <td>Mohit</td>\n",
              "            <td>Mudit</td>\n",
              "        </tr>\n",
              "        <tr>\n",
              "            <td>Agam</td>\n",
              "            <td>Mohit</td>\n",
              "            <td>Mudit</td>\n",
              "        </tr>\n",
              "        <tr>\n",
              "            <td>Sanjay</td>\n",
              "            <td>Mohit</td>\n",
              "            <td>Mudit</td>\n",
              "        </tr>\n",
              "        <tr>\n",
              "            <td>Ashish</td>\n",
              "            <td>Mohit</td>\n",
              "            <td>Mudit</td>\n",
              "        </tr>\n",
              "        <tr>\n",
              "            <td>Ankit</td>\n",
              "            <td>Rohit</td>\n",
              "            <td>Mohit</td>\n",
              "        </tr>\n",
              "        <tr>\n",
              "            <td>Vikas</td>\n",
              "            <td>Rohit</td>\n",
              "            <td>Mohit</td>\n",
              "        </tr>\n",
              "        <tr>\n",
              "            <td>Mohit</td>\n",
              "            <td>Mudit</td>\n",
              "            <td>Agam</td>\n",
              "        </tr>\n",
              "        <tr>\n",
              "            <td>Mudit</td>\n",
              "            <td>Agam</td>\n",
              "            <td>Mohit</td>\n",
              "        </tr>\n",
              "        <tr>\n",
              "            <td>Mukesh</td>\n",
              "            <td>Agam</td>\n",
              "            <td>Mohit</td>\n",
              "        </tr>\n",
              "        <tr>\n",
              "            <td>Rakesh</td>\n",
              "            <td>Agam</td>\n",
              "            <td>Mohit</td>\n",
              "        </tr>\n",
              "    </tbody>\n",
              "</table>"
            ]
          },
          "metadata": {},
          "execution_count": 63
        }
      ]
    }
  ]
}